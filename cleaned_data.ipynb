{
 "cells": [
  {
   "cell_type": "code",
   "execution_count": 2,
   "metadata": {},
   "outputs": [
    {
     "name": "stdout",
     "output_type": "stream",
     "text": [
      "Patients shape: (1171, 25)\n",
      "Conditions shape: (8376, 6)\n",
      "Encounters shape: (53346, 15)\n"
     ]
    }
   ],
   "source": [
    "import pandas as pd\n",
    "import numpy as np\n",
    "\n",
    "# -----------------------------\n",
    "# 1. Load datasets\n",
    "# -----------------------------\n",
    "patients = pd.read_csv(\"/Users/leokariuki/Desktop/Healthcare Utilization Project/csv/patients.csv\")\n",
    "conditions = pd.read_csv(\"/Users/leokariuki/Desktop/Healthcare Utilization Project/csv/conditions.csv\")\n",
    "encounters = pd.read_csv(\"/Users/leokariuki/Desktop/Healthcare Utilization Project/csv/encounters.csv\")\n",
    "\n",
    "# -----------------------------\n",
    "# 2. Quick overview\n",
    "# -----------------------------\n",
    "print(\"Patients shape:\", patients.shape)\n",
    "print(\"Conditions shape:\", conditions.shape)\n",
    "print(\"Encounters shape:\", encounters.shape)"
   ]
  },
  {
   "cell_type": "code",
   "execution_count": 4,
   "metadata": {},
   "outputs": [],
   "source": [
    "def check_missing(df, name):\n",
    "    print(f\"\\nMissing values in {name}:\")\n",
    "    print(df.isnull().sum())"
   ]
  },
  {
   "cell_type": "code",
   "execution_count": 5,
   "metadata": {},
   "outputs": [
    {
     "name": "stdout",
     "output_type": "stream",
     "text": [
      "\n",
      "Missing values in patients:\n",
      "Id                        0\n",
      "BIRTHDATE                 0\n",
      "DEATHDATE              1000\n",
      "SSN                       0\n",
      "DRIVERS                 213\n",
      "PASSPORT                273\n",
      "PREFIX                  244\n",
      "FIRST                     0\n",
      "LAST                      0\n",
      "SUFFIX                 1159\n",
      "MAIDEN                  840\n",
      "MARITAL                 380\n",
      "RACE                      0\n",
      "ETHNICITY                 0\n",
      "GENDER                    0\n",
      "BIRTHPLACE                0\n",
      "ADDRESS                   0\n",
      "CITY                      0\n",
      "STATE                     0\n",
      "COUNTY                    0\n",
      "ZIP                     543\n",
      "LAT                       0\n",
      "LON                       0\n",
      "HEALTHCARE_EXPENSES       0\n",
      "HEALTHCARE_COVERAGE       0\n",
      "dtype: int64\n",
      "\n",
      "Missing values in conditions:\n",
      "START             0\n",
      "STOP           3811\n",
      "PATIENT           0\n",
      "ENCOUNTER         0\n",
      "CODE              0\n",
      "DESCRIPTION       0\n",
      "dtype: int64\n",
      "\n",
      "Missing values in encounters:\n",
      "Id                         0\n",
      "START                      0\n",
      "STOP                       0\n",
      "PATIENT                    0\n",
      "ORGANIZATION               0\n",
      "PROVIDER                   0\n",
      "PAYER                      0\n",
      "ENCOUNTERCLASS             0\n",
      "CODE                       0\n",
      "DESCRIPTION                0\n",
      "BASE_ENCOUNTER_COST        0\n",
      "TOTAL_CLAIM_COST           0\n",
      "PAYER_COVERAGE             0\n",
      "REASONCODE             39569\n",
      "REASONDESCRIPTION      39569\n",
      "dtype: int64\n"
     ]
    }
   ],
   "source": [
    "check_missing(patients, \"patients\")\n",
    "check_missing(conditions, \"conditions\")\n",
    "check_missing(encounters, \"encounters\")"
   ]
  },
  {
   "cell_type": "code",
   "execution_count": 6,
   "metadata": {},
   "outputs": [
    {
     "name": "stdout",
     "output_type": "stream",
     "text": [
      "\n",
      "Duplicates:\n",
      "Patients duplicates: 0\n",
      "Conditions duplicates: 0\n",
      "Encounters duplicates: 0\n"
     ]
    }
   ],
   "source": [
    "# 4. Duplicates check\n",
    "# -----------------------------\n",
    "print(\"\\nDuplicates:\")\n",
    "print(\"Patients duplicates:\", patients.duplicated().sum())\n",
    "print(\"Conditions duplicates:\", conditions.duplicated().sum())\n",
    "print(\"Encounters duplicates:\", encounters.duplicated().sum())"
   ]
  },
  {
   "cell_type": "code",
   "execution_count": 8,
   "metadata": {},
   "outputs": [
    {
     "name": "stderr",
     "output_type": "stream",
     "text": [
      "/var/folders/z6/qh_ttttx5t54h3qsg2hp13gm0000gn/T/ipykernel_97495/2590605428.py:8: UserWarning: Could not infer format, so each element will be parsed individually, falling back to `dateutil`. To ensure parsing is consistent and as-expected, please specify a format.\n",
      "  patients[col] = pd.to_datetime(patients[col], errors=\"coerce\")\n",
      "/var/folders/z6/qh_ttttx5t54h3qsg2hp13gm0000gn/T/ipykernel_97495/2590605428.py:12: UserWarning: Could not infer format, so each element will be parsed individually, falling back to `dateutil`. To ensure parsing is consistent and as-expected, please specify a format.\n",
      "  conditions[col] = pd.to_datetime(conditions[col], errors=\"coerce\")\n"
     ]
    }
   ],
   "source": [
    "# Convert date columns\n",
    "date_cols_patients = [\"BIRTHDATE\", \"DEATHDATE\"]\n",
    "date_cols_conditions = [\"START\", \"STOP\"]\n",
    "date_cols_encounters = [\"START\", \"STOP\"]\n",
    "\n",
    "for col in date_cols_patients:\n",
    "    if col in patients.columns:\n",
    "        patients[col] = pd.to_datetime(patients[col], errors=\"coerce\")\n",
    "\n",
    "for col in date_cols_conditions:\n",
    "    if col in conditions.columns:\n",
    "        conditions[col] = pd.to_datetime(conditions[col], errors=\"coerce\")\n",
    "\n",
    "for col in date_cols_encounters:\n",
    "    if col in encounters.columns:\n",
    "        encounters[col] = pd.to_datetime(encounters[col], errors=\"coerce\")\n",
    "\n",
    "# -----------------------------\n",
    "# Handling missing values\n",
    "# -----------------------------\n",
    "# Patients\n",
    "patients[\"DEATHDATE\"] = patients[\"DEATHDATE\"].fillna(\"Alive\")\n",
    "\n",
    "# Conditions\n",
    "conditions[\"STOP\"] = conditions[\"STOP\"].fillna(\"Ongoing\")\n",
    "\n",
    "# Encounters\n",
    "encounters[\"STOP\"] = encounters[\"STOP\"].fillna(encounters[\"START\"])"
   ]
  }
 ],
 "metadata": {
  "kernelspec": {
   "display_name": "Python 3",
   "language": "python",
   "name": "python3"
  },
  "language_info": {
   "codemirror_mode": {
    "name": "ipython",
    "version": 3
   },
   "file_extension": ".py",
   "mimetype": "text/x-python",
   "name": "python",
   "nbconvert_exporter": "python",
   "pygments_lexer": "ipython3",
   "version": "3.13.0"
  }
 },
 "nbformat": 4,
 "nbformat_minor": 2
}
